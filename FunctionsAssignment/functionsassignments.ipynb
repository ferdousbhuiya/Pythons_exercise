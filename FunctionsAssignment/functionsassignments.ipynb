{
 "cells": [
  {
   "cell_type": "markdown",
   "metadata": {},
   "source": [
    "# Module 4: Functions Assignments\n",
    "## Lesson 4.1: Defining Functions\n",
    "### Assignment 1: Simple Function\n",
    "\n",
    "Define a function that takes a single integer as input and returns its square. Test the function with different inputs."
   ]
  },
  {
   "cell_type": "code",
   "execution_count": null,
   "metadata": {},
   "outputs": [
    {
     "name": "stdout",
     "output_type": "stream",
     "text": [
      "The square is 25\n",
      "The square is 100\n"
     ]
    }
   ],
   "source": [
    "def sqr(x):\n",
    "    return x * x\n",
    "\"\"\"This function squares a number  \"\"\"\n",
    "\n",
    "\n",
    "# The square function's test cases:\n",
    "print(f\"The square is {sqr(5)}\")\n",
    "print(f\"The square is {sqr(10)}\")"
   ]
  },
  {
   "cell_type": "markdown",
   "metadata": {},
   "source": [
    "### Assignment 2: Multiple Arguments\n",
    "\n",
    "Define a function that takes two integers as input and returns their sum. Test the function with different inputs."
   ]
  },
  {
   "cell_type": "code",
   "execution_count": null,
   "metadata": {},
   "outputs": [
    {
     "name": "stdout",
     "output_type": "stream",
     "text": [
      "The sum is 5\n",
      "The sum is 30\n"
     ]
    }
   ],
   "source": [
    "def add(a, b):\n",
    "    return a + b\n",
    "\"\"\"The add function takes two numbers and returns their sum.\"\"\"\n",
    "\n",
    "\n",
    "# The add function's test cases:\n",
    "print(f\"The sum is {add(2, 3)}\")\n",
    "print(f\"The sum is {add(10, 20)}\")"
   ]
  },
  {
   "cell_type": "markdown",
   "metadata": {},
   "source": [
    "### Assignment 3: Default Arguments\n",
    "\n",
    "Define a function that takes two integers as input and returns their sum. The second integer should have a default value of 5. Test the function with different inputs."
   ]
  },
  {
   "cell_type": "code",
   "execution_count": null,
   "metadata": {},
   "outputs": [
    {
     "name": "stdout",
     "output_type": "stream",
     "text": [
      "The result is: 7\n",
      "The result is: 30\n"
     ]
    }
   ],
   "source": [
    "def addtn(a, b=5):  # default value for b is 5\n",
    "    return a + b\n",
    "\"\"\"The addtn function adds two numbers, with a default value of 5 for the second number.\"\"\"\n",
    "# If the second number is not provided, it defaults to 5. \n",
    "# If we provide second number then it will use the provided value.\n",
    "\n",
    "# The addtn function's test cases:\n",
    "print(f\"The result is: {addtn(2)}\")\n",
    "print(f\"The result is: {addtn(10, 20)}\")"
   ]
  },
  {
   "cell_type": "markdown",
   "metadata": {},
   "source": [
    "### Assignment 4: Keyword Arguments\n",
    "\n",
    "Define a function that takes three named arguments: first_name, last_name, and age, and returns a formatted string. Test the function with different inputs."
   ]
  },
  {
   "cell_type": "code",
   "execution_count": 13,
   "metadata": {},
   "outputs": [
    {
     "name": "stdout",
     "output_type": "stream",
     "text": [
      "The concatenated string is: Ferdous Bhuiya is 55 years old.\n",
      "The concatenated string is: Taslima Akhter is 45 years old.\n"
     ]
    }
   ],
   "source": [
    "def str_concat(first_name, last_name, age):\n",
    "    return f\"{first_name} {last_name} is {age} years old.\"\n",
    "\"\"\"The str_concat function concatenates a first name, last name, and age into a formatted string.\"\"\"\n",
    "\n",
    "# The str_concat function's test cases:\n",
    "print(f\"The concatenated string is: {str_concat('Ferdous', 'Bhuiya', 55)}\")\n",
    "print(f\"The concatenated string is: {str_concat('Taslima', 'Akhter', 45)}\")"
   ]
  },
  {
   "cell_type": "markdown",
   "metadata": {},
   "source": [
    "### Assignment 5: Variable-length Arguments\n",
    "\n",
    "Define a function that takes a variable number of integer arguments and returns their product. Test the function with different inputs."
   ]
  },
  {
   "cell_type": "code",
   "execution_count": 14,
   "metadata": {},
   "outputs": [
    {
     "name": "stdout",
     "output_type": "stream",
     "text": [
      "The product is: 24\n",
      "The product is: 210\n"
     ]
    }
   ],
   "source": [
    "def prodct (*args):\n",
    "    result = 1\n",
    "    for num in args:\n",
    "        result *= num\n",
    "    return result\n",
    "\"\"\"The prodct function calculates the product of all given numbers.\"\"\"\n",
    "\n",
    "# The prodct function's test cases:\n",
    "print(f\"The product is: {prodct(2, 3, 4)}\")\n",
    "print(f\"The product is: {prodct(1, 5, 6, 7)}\")\n"
   ]
  },
  {
   "cell_type": "markdown",
   "metadata": {},
   "source": [
    "### Assignment 6: Nested Functions\n",
    "\n",
    "Define a function that contains another function inside it. The outer function should take two integers as input and return the result of the inner function, which multiplies the two integers. Test the function with different inputs."
   ]
  },
  {
   "cell_type": "code",
   "execution_count": 15,
   "metadata": {},
   "outputs": [
    {
     "name": "stdout",
     "output_type": "stream",
     "text": [
      "The product is: 6\n",
      "The product is: 20\n"
     ]
    }
   ],
   "source": [
    "def mlt(x,y):\n",
    "    def inner(a,b):\n",
    "        return a * b\n",
    "    return inner(x,y)\n",
    "\"\"\"this is a higher-order function that returns the product of two numbers.\"\"\"\n",
    "\n",
    "# The mlt function's test cases:\n",
    "print(f\"The product is: {mlt(2, 3)}\")\n",
    "print(f\"The product is: {mlt(4, 5)}\")\n"
   ]
  },
  {
   "cell_type": "markdown",
   "metadata": {},
   "source": [
    "### Assignment 7: Returning Multiple Values\n",
    "\n",
    "Define a function that takes a single integer as input and returns the integer squared, cubed, and raised to the power of four. Test the function with different inputs."
   ]
  },
  {
   "cell_type": "code",
   "execution_count": 18,
   "metadata": {},
   "outputs": [
    {
     "name": "stdout",
     "output_type": "stream",
     "text": [
      "(4, 8, 16)\n",
      "(81, 729, 6561)\n"
     ]
    }
   ],
   "source": [
    "def mltfnc(x):\n",
    "    return (x**2, x**3, x**4)\n",
    "\"\"\"This function returns a tuple of three lambda functions that compute the square, cube, and fourth power of a given number.\"\"\"\n",
    "\n",
    "# The mltfnc function's test cases:\n",
    "print(mltfnc(2))\n",
    "print(mltfnc(9))"
   ]
  },
  {
   "cell_type": "markdown",
   "metadata": {},
   "source": [
    "### Assignment 8: Recursive Function\n",
    "\n",
    "Define a recursive function that calculates the factorial of a given number. Test the function with different inputs."
   ]
  },
  {
   "cell_type": "code",
   "execution_count": 19,
   "metadata": {},
   "outputs": [
    {
     "name": "stdout",
     "output_type": "stream",
     "text": [
      "The factorial of 5 is: 120\n",
      "The factorial of 7 is: 5040\n"
     ]
    }
   ],
   "source": [
    "def fact(n):\n",
    "    if n == 0 or n == 1:\n",
    "        return 1\n",
    "    else:\n",
    "        return n * fact(n - 1)\n",
    "\n",
    "\"\"\"The factorial function calculates the product of all positive integers up to n.\"\"\"\n",
    "\n",
    "# The fact function's test cases:\n",
    "print(f\"The factorial of 5 is: {fact(5)}\")\n",
    "print(f\"The factorial of 7 is: {fact(7)}\")\n"
   ]
  },
  {
   "cell_type": "markdown",
   "metadata": {},
   "source": [
    "### Assignment 9: Lambda Function\n",
    "\n",
    "Define a lambda function that takes two integers as input and returns their sum. Test the lambda function with different inputs."
   ]
  },
  {
   "cell_type": "code",
   "execution_count": 21,
   "metadata": {},
   "outputs": [
    {
     "name": "stdout",
     "output_type": "stream",
     "text": [
      "The sum is: 5\n",
      "The sum is: 30\n"
     ]
    }
   ],
   "source": [
    "addn = lambda x,y: x + y\n",
    "\n",
    "print(f\"The sum is: {addn(2, 3)}\")\n",
    "print(f\"The sum is: {addn(10, 20)}\")"
   ]
  },
  {
   "cell_type": "markdown",
   "metadata": {},
   "source": [
    "### Assignment 10: Map Function\n",
    "\n",
    "Use the map function to apply a lambda function that squares each number in a list of integers. Test with different lists."
   ]
  },
  {
   "cell_type": "code",
   "execution_count": 22,
   "metadata": {},
   "outputs": [
    {
     "name": "stdout",
     "output_type": "stream",
     "text": [
      "The squares of list1 are: [1, 4, 9, 16, 25]\n",
      "The squares of list2 are: [36, 49, 64, 81, 100]\n"
     ]
    }
   ],
   "source": [
    "list1 = [1, 2, 3, 4, 5]\n",
    "list2 = [6, 7, 8, 9, 10]\n",
    "\n",
    "def lst_sqr(lst):\n",
    "    return list(map(lambda x: x**2, lst))\n",
    "\"\"\"The lst_sqr function squares each element in the list.\"\"\"\n",
    "\n",
    "# The lst_sqr function's test cases:\n",
    "print(f\"The squares of list1 are: {lst_sqr(list1)}\")\n",
    "print(f\"The squares of list2 are: {lst_sqr(list2)}\")\n"
   ]
  },
  {
   "cell_type": "markdown",
   "metadata": {},
   "source": [
    "### Assignment 11: Filter Function\n",
    "\n",
    "Use the filter function to filter out all odd numbers from a list of integers. Test with different lists."
   ]
  },
  {
   "cell_type": "code",
   "execution_count": 26,
   "metadata": {},
   "outputs": [
    {
     "name": "stdout",
     "output_type": "stream",
     "text": [
      "The even numbers in list1 are: [2, 4, 6, 8, 10, 12, 14, 16, 18, 20, 22, 24, 26, 28, 30, 32, 34, 36, 38, 40]\n",
      "The even numbers in list2 are: [42, 44, 46, 48, 50, 52, 54, 56, 58, 60, 62, 64, 66, 68, 70, 72, 74, 76, 78, 80]\n"
     ]
    }
   ],
   "source": [
    "lst1 = list(range(1, 41))\n",
    "lst2 = list(range(41, 81))\n",
    "\n",
    "def  fltr_fnct(lst):\n",
    "    return list(filter(lambda x: x % 2 == 0, lst))\n",
    "\n",
    "\"\"\"This function will filter out odd numbers from the list.\"\"\"\n",
    "\n",
    "# The fltr_fnct function's test cases:\n",
    "print(f\"The even numbers in list1 are: {fltr_fnct(lst1)}\")\n",
    "print(f\"The even numbers in list2 are: {fltr_fnct(lst2)}\")\n"
   ]
  },
  {
   "cell_type": "markdown",
   "metadata": {},
   "source": [
    "### Assignment 12: Function Decorator\n",
    "\n",
    "Define a decorator function that prints 'Executing function...' before executing a function and 'Function executed.' after executing it. Apply this decorator to a function that takes a list of integers and returns their sum. Test the decorated function with different lists."
   ]
  },
  {
   "cell_type": "code",
   "execution_count": 27,
   "metadata": {},
   "outputs": [
    {
     "name": "stdout",
     "output_type": "stream",
     "text": [
      "Executing function...\n",
      "Function executed.\n",
      "15\n"
     ]
    }
   ],
   "source": [
    "def my_decorator(func):\n",
    "    def wrapper(*args, **kwargs):\n",
    "        print('Executing function...')\n",
    "        result = func(*args, **kwargs)\n",
    "        print('Function executed.')\n",
    "        return result\n",
    "    return wrapper\n",
    "\n",
    "@my_decorator\n",
    "def sum_list(lst):\n",
    "    return sum(lst)\n",
    "\n",
    "# Test\n",
    "print(sum_list([1, 2, 3, 4, 5]))  # 15"
   ]
  },
  {
   "cell_type": "markdown",
   "metadata": {},
   "source": [
    "### Assignment 13: Function with *args and **kwargs\n",
    "\n",
    "Define a function that takes variable-length arguments and keyword arguments and prints them. Test the function with different inputs."
   ]
  },
  {
   "cell_type": "code",
   "execution_count": 28,
   "metadata": {},
   "outputs": [
    {
     "name": "stdout",
     "output_type": "stream",
     "text": [
      "args: (1, 2, 3)\n",
      "kwargs: {'a': 'apple', 'b': 'banana'}\n",
      "args: ('hello', 'world')\n",
      "kwargs: {'x': 10, 'y': 20}\n"
     ]
    }
   ],
   "source": [
    "def print_args_kwargs(*args, **kwargs):\n",
    "    print('args:', args)\n",
    "    print('kwargs:', kwargs)\n",
    "\n",
    "# Test\n",
    "print_args_kwargs(1, 2, 3, a='apple', b='banana')\n",
    "print_args_kwargs('hello', 'world', x=10, y=20)"
   ]
  },
  {
   "cell_type": "markdown",
   "metadata": {},
   "source": [
    "### Assignment 14: Higher-Order Function\n",
    "\n",
    "Define a higher-order function that takes a function and a list of integers as arguments, and applies the function to each integer in the list. Test with different functions and lists."
   ]
  },
  {
   "cell_type": "code",
   "execution_count": 29,
   "metadata": {},
   "outputs": [
    {
     "name": "stdout",
     "output_type": "stream",
     "text": [
      "[1, 4, 9, 16, 25]\n",
      "[2, 3, 4, 5, 6]\n"
     ]
    }
   ],
   "source": [
    "def apply_function(func, lst):\n",
    "    return [func(x) for x in lst]\n",
    "\n",
    "# Test\n",
    "print(apply_function(lambda x: x ** 2, [1, 2, 3, 4, 5]))  # [1, 4, 9, 16, 25]\n",
    "print(apply_function(lambda x: x + 1, [1, 2, 3, 4, 5]))  # [2, 3, 4, 5, 6]"
   ]
  },
  {
   "cell_type": "markdown",
   "metadata": {},
   "source": [
    "### Assignment 15: Function Documentation\n",
    "\n",
    "Define a function with a docstring that explains what the function does, its parameters, and its return value. Print the function's docstring."
   ]
  },
  {
   "cell_type": "code",
   "execution_count": 30,
   "metadata": {},
   "outputs": [
    {
     "name": "stdout",
     "output_type": "stream",
     "text": [
      "\n",
      "This function takes two integers and returns their sum.\n",
      "\n",
      "Parameters:\n",
      "x (int): The first integer.\n",
      "y (int): The second integer.\n",
      "\n",
      "Returns:\n",
      "int: The sum of the two integers.\n",
      "\n"
     ]
    }
   ],
   "source": [
    "def example_function(x, y):\n",
    "    \"\"\"\n",
    "    This function takes two integers and returns their sum.\n",
    "\n",
    "    Parameters:\n",
    "    x (int): The first integer.\n",
    "    y (int): The second integer.\n",
    "\n",
    "    Returns:\n",
    "    int: The sum of the two integers.\n",
    "    \"\"\"\n",
    "    return x + y\n",
    "\n",
    "# Print docstring\n",
    "print(example_function.__doc__)"
   ]
  },
  {
   "cell_type": "markdown",
   "id": "139d44f3",
   "metadata": {},
   "source": [
    "## Example of packages that i can customize"
   ]
  },
  {
   "cell_type": "code",
   "execution_count": 5,
   "id": "1ed28fb7",
   "metadata": {},
   "outputs": [
    {
     "name": "stdout",
     "output_type": "stream",
     "text": [
      "5\n"
     ]
    }
   ],
   "source": [
    "import os\n",
    "os.chdir(\"g:/Online_Courses/Udemy/Python_Practice_from_Krish\")\n",
    "from packages import calculation\n",
    "result = calculation.add(2, 3)\n",
    "print(result)"
   ]
  },
  {
   "cell_type": "code",
   "execution_count": 6,
   "id": "07d93989",
   "metadata": {},
   "outputs": [
    {
     "name": "stdout",
     "output_type": "stream",
     "text": [
      "-1\n"
     ]
    }
   ],
   "source": [
    "rslt = calculation.subtract(2, 3)\n",
    "print(rslt)"
   ]
  }
 ],
 "metadata": {
  "kernelspec": {
   "display_name": "Python 3",
   "language": "python",
   "name": "python3"
  },
  "language_info": {
   "codemirror_mode": {
    "name": "ipython",
    "version": 3
   },
   "file_extension": ".py",
   "mimetype": "text/x-python",
   "name": "python",
   "nbconvert_exporter": "python",
   "pygments_lexer": "ipython3",
   "version": "3.13.0"
  }
 },
 "nbformat": 4,
 "nbformat_minor": 5
}

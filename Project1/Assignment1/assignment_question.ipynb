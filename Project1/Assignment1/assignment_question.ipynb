{
 "cells": [
  {
   "cell_type": "markdown",
   "metadata": {},
   "source": [
    "# Lesson 1.2: Python Basics\n",
    "## Topics Covered:\n",
    "- Syntax and Semantics\n",
    "- Variables and Data Types\n",
    "- Basic Operators (Arithmetic, Comparison, Logical)\n"
   ]
  },
  {
   "cell_type": "markdown",
   "metadata": {},
   "source": [
    "## 1. Syntax and Semantics\n",
    "\n",
    "**Question 1:** Write a Python program to print \"Hello, World!\"."
   ]
  },
  {
   "cell_type": "code",
   "execution_count": 1,
   "metadata": {},
   "outputs": [
    {
     "name": "stdout",
     "output_type": "stream",
     "text": [
      "Hello, World! \n"
     ]
    }
   ],
   "source": [
    "print(\"Hello, World! \" ) "
   ]
  },
  {
   "cell_type": "markdown",
   "metadata": {},
   "source": [
    "**Question 2:** Write a Python program that takes a user input and prints it."
   ]
  },
  {
   "cell_type": "code",
   "execution_count": 3,
   "metadata": {},
   "outputs": [
    {
     "name": "stdout",
     "output_type": "stream",
     "text": [
      "Hello, Ferdous!\n"
     ]
    }
   ],
   "source": [
    "userInput=input(\"Enter your name: \")\n",
    "print(\"Hello, \" + userInput + \"!\")"
   ]
  },
  {
   "cell_type": "markdown",
   "metadata": {},
   "source": [
    "**Question 3:** Write a Python program to check if a number is positive, negative, or zero."
   ]
  },
  {
   "cell_type": "code",
   "execution_count": 7,
   "metadata": {},
   "outputs": [
    {
     "name": "stdout",
     "output_type": "stream",
     "text": [
      "The number is zero.\n"
     ]
    }
   ],
   "source": [
    "user_input = input(\"Please enter your name: \")\n",
    "if int(user_input) < 0:\n",
    "    print(\"The numbber is negative. \" )\n",
    "elif int(user_input) > 0:\n",
    "    print(\"The number is positive. \")\n",
    "else:\n",
    "    print(\"The number is zero.\")"
   ]
  },
  {
   "cell_type": "markdown",
   "metadata": {},
   "source": [
    "**Question 4:** Write a Python program to find the largest of three numbers."
   ]
  },
  {
   "cell_type": "code",
   "execution_count": 20,
   "metadata": {},
   "outputs": [
    {
     "name": "stdout",
     "output_type": "stream",
     "text": [
      "The three numbers are:  25 , 36 , 69\n",
      "The largest number is:  69\n"
     ]
    }
   ],
   "source": [
    "num1 = int(input(\"Enter first number: \"))\n",
    "num2 = int(input(\"Enter second number: \"))  \n",
    "num3 = int(input(\"Enter third number: \"))\n",
    "print (\"The three numbers are: \", num1,',' , num2, ',', num3)\n",
    "if num1 > num2 and num1 > num3:\n",
    "    print(\"The largest number is: \", num1)  \n",
    "elif num2 > num1 and num2 > num3:\n",
    "    print(\"The largest number is: \", num2)\n",
    "else:\n",
    "    print(\"The largest number is: \", num3)"
   ]
  },
  {
   "cell_type": "markdown",
   "metadata": {},
   "source": [
    "**Question 5:** Write a Python program to calculate the factorial of a number."
   ]
  },
  {
   "cell_type": "code",
   "execution_count": 21,
   "metadata": {},
   "outputs": [
    {
     "name": "stdout",
     "output_type": "stream",
     "text": [
      "The factorial of 12 is 479001600\n"
     ]
    }
   ],
   "source": [
    "factinput = int(input(\"Enter a number to find its factorial: \"))\n",
    "fact = 1\n",
    "for i in range(1, factinput + 1):\n",
    "    fact *= i\n",
    "print(\"The factorial of\", factinput, \"is\", fact)"
   ]
  },
  {
   "cell_type": "markdown",
   "metadata": {},
   "source": [
    "## 2. Variables and Data Types\n",
    "\n",
    "**Question 6:** Create variables of different data types: integer, float, string, and boolean. Print their values and types."
   ]
  },
  {
   "cell_type": "code",
   "execution_count": null,
   "metadata": {},
   "outputs": [
    {
     "name": "stdout",
     "output_type": "stream",
     "text": [
      "The value of variable is: 56 The type of this variable is:  <class 'int'>\n",
      "The value of variable is: 2.3 The type of this variable is:  <class 'float'>\n",
      "The value of variable is: Ferdous The type of this variable is:  <class 'str'>\n",
      "The value of variable is: True The type of this variable is:  <class 'bool'>\n"
     ]
    }
   ],
   "source": [
    "a=56; b=2.3; c=\"Ferdous\"; d=True\n",
    "print(\"The value of variable is:\",a,\"The type of this variable is: \", type(a))\n",
    "print(\"The value of variable is:\",b,\"The type of this variable is: \", type(b))\n",
    "print(\"The value of variable is:\",c,\"The type of this variable is: \", type(c))\n",
    "print(\"The value of variable is:\",d,\"The type of this variable is: \", type(d))"
   ]
  },
  {
   "cell_type": "markdown",
   "metadata": {},
   "source": [
    "**Question 7:** Write a Python program to swap the values of two variables."
   ]
  },
  {
   "cell_type": "code",
   "execution_count": 33,
   "metadata": {},
   "outputs": [
    {
     "name": "stdout",
     "output_type": "stream",
     "text": [
      "The value of x= 95 The value of y= 15\n"
     ]
    }
   ],
   "source": [
    "x=15; y=95\n",
    "c=x\n",
    "x=y\n",
    "y=c\n",
    "print(\"The value of x=\",x ,\"The value of y=\",y)"
   ]
  },
  {
   "cell_type": "markdown",
   "metadata": {},
   "source": [
    "**Question 8:** Write a Python program to convert Celsius to Fahrenheit."
   ]
  },
  {
   "cell_type": "code",
   "execution_count": 36,
   "metadata": {},
   "outputs": [
    {
     "name": "stdout",
     "output_type": "stream",
     "text": [
      "The celsius temperature is 100 . In Farenhite it is: 212.0\n"
     ]
    }
   ],
   "source": [
    "celsius= int(input(\"Give the temperature in Celcius\"))\n",
    "farenhite = (celsius*1.8)+32\n",
    "print(\"The celsius temperature is\",celsius,\". In Farenhite it is:\",farenhite)"
   ]
  },
  {
   "cell_type": "markdown",
   "metadata": {},
   "source": [
    "**Question 9:** Write a Python program to concatenate two strings."
   ]
  },
  {
   "cell_type": "code",
   "execution_count": 40,
   "metadata": {},
   "outputs": [
    {
     "name": "stdout",
     "output_type": "stream",
     "text": [
      "The concatenate string is: kljlkjljklkj\n"
     ]
    }
   ],
   "source": [
    "str1 = input(\"Give me the first String\")\n",
    "str2 = input(\"Give me the second String\")\n",
    "finalStr = str1+str2\n",
    "print(\"The concatenate string is:\",finalStr)"
   ]
  },
  {
   "cell_type": "markdown",
   "metadata": {},
   "source": [
    "**Question 10:** Write a Python program to check if a variable is of a specific data type."
   ]
  },
  {
   "cell_type": "code",
   "execution_count": null,
   "metadata": {},
   "outputs": [
    {
     "name": "stdout",
     "output_type": "stream",
     "text": [
      "The variable 'a' is an integer.\n",
      "The variable 'a' is of type: <class 'int'>\n"
     ]
    }
   ],
   "source": [
    "a = 125\n",
    "\n",
    "if type(a) is int:\n",
    "    print(\"The variable 'a' is an integer.\")\n",
    "elif type(a) is float:\n",
    "    print(\"The variable 'a' is a float.\")\n",
    "elif type(a) is str:\n",
    "    print(\"The variable 'a' is a string.\")\n",
    "elif type(a) is bool:\n",
    "    print(\"The variable 'a' is a boolean.\")\n",
    "elif type(a) is list:\n",
    "    print(\"The variable 'a' is a list.\")\n",
    "elif type(a) is tuple:\n",
    "    print(\"The variable 'a' is a tuple.\")\n",
    "if type(a) is dict:\n",
    "    print(\"The variable 'a' is a dictionary.\")\n",
    "if type(a) is set:\n",
    "    print(\"The variable 'a' is a set.\")\n",
    "if type(a) is None:\n",
    "    print(\"The variable 'a' is None.\")\n",
    "print(\"The variable 'a' is of type:\", type(a))\n"
   ]
  },
  {
   "cell_type": "markdown",
   "metadata": {},
   "source": [
    "## 3. Basic Operators (Arithmetic, Comparison, Logical)\n",
    "\n",
    "**Question 11:** Write a Python program to perform arithmetic operations: addition, subtraction, multiplication, and division."
   ]
  },
  {
   "cell_type": "code",
   "execution_count": 43,
   "metadata": {},
   "outputs": [
    {
     "name": "stdout",
     "output_type": "stream",
     "text": [
      "The two numbers are:  23.0 , -8.0\n",
      "Addition: 15.0\n",
      "Subtraction: 31.0\n",
      "Multiplication: -184.0\n",
      "Division: -2.875\n"
     ]
    }
   ],
   "source": [
    "numb1 = float(input(\"Enter first number: \"))\n",
    "numb2 = float(input(\"Enter second number: \"))\n",
    "print(\"The two numbers are: \", numb1, ',', numb2)\n",
    "addition = numb1 + numb2\n",
    "subtraction = numb1 - numb2 \n",
    "multiplication = numb1 * numb2\n",
    "division = numb1 / numb2\n",
    "print(\"Addition:\", addition)\n",
    "print(\"Subtraction:\", subtraction)\n",
    "print(\"Multiplication:\", multiplication)\n",
    "print(\"Division:\", division)\n"
   ]
  },
  {
   "cell_type": "markdown",
   "metadata": {},
   "source": [
    "**Question 12:** Write a Python program to demonstrate comparison operators: equal to, not equal to, greater than, less than."
   ]
  },
  {
   "cell_type": "code",
   "execution_count": 45,
   "metadata": {},
   "outputs": [
    {
     "name": "stdout",
     "output_type": "stream",
     "text": [
      "The two numbers are:  23.0 , -89.0\n",
      "The two numbers are not equal.\n",
      "The first number is greater than the second number.\n"
     ]
    }
   ],
   "source": [
    "# Your code here\n",
    "nmbr1 = float(input(\"Enter first number: \"))\n",
    "nmbr2 = float(input(\"Enter second number: \"))\n",
    "print(\"The two numbers are: \", nmbr1, ',', nmbr2)\n",
    "if nmbr1 != nmbr2:\n",
    "    print(\"The two numbers are not equal.\")\n",
    "    if nmbr1 > nmbr2:\n",
    "        print(\"The first number is greater than the second number.\")\n",
    "    else:\n",
    "        print(\"The first number is less than the second number.\")\n",
    "if nmbr1 == nmbr2:\n",
    "    print(\"The two numbers are equal.\")"
   ]
  },
  {
   "cell_type": "markdown",
   "metadata": {},
   "source": [
    "**Question 13:** Write a Python program to demonstrate logical operators: and, or, not."
   ]
  },
  {
   "cell_type": "code",
   "execution_count": 46,
   "metadata": {},
   "outputs": [
    {
     "name": "stdout",
     "output_type": "stream",
     "text": [
      "\n",
      "Logical AND:\n",
      "At least one of a or b is not positive.\n",
      "\n",
      "Logical OR:\n",
      "At least one of a or b is positive.\n",
      "\n",
      "Logical NOT:\n",
      "not(a > 0) is False\n",
      "not(b > 0) is True\n"
     ]
    }
   ],
   "source": [
    "# Your code here\n",
    "# Get user input\n",
    "a = int(input(\"Enter the first number (a): \"))\n",
    "b = int(input(\"Enter the second number (b): \"))\n",
    "\n",
    "# Demonstrate 'and' operator\n",
    "print(\"\\nLogical AND:\")\n",
    "if a > 0 and b > 0:\n",
    "    print(\"Both a and b are positive.\")\n",
    "else:\n",
    "    print(\"At least one of a or b is not positive.\")\n",
    "\n",
    "# Demonstrate 'or' operator\n",
    "print(\"\\nLogical OR:\")\n",
    "if a > 0 or b > 0:\n",
    "    print(\"At least one of a or b is positive.\")\n",
    "else:\n",
    "    print(\"Neither a nor b is positive.\")\n",
    "\n",
    "# Demonstrate 'not' operator\n",
    "print(\"\\nLogical NOT:\")\n",
    "print(\"not(a > 0) is\", not(a > 0))\n",
    "print(\"not(b > 0) is\", not(b > 0))\n"
   ]
  },
  {
   "cell_type": "markdown",
   "metadata": {},
   "source": [
    "**Question 14:** Write a Python program to calculate the square of a number."
   ]
  },
  {
   "cell_type": "code",
   "execution_count": 48,
   "metadata": {},
   "outputs": [
    {
     "name": "stdout",
     "output_type": "stream",
     "text": [
      "The number is: 5\n",
      "The square of 5 is 25\n"
     ]
    }
   ],
   "source": [
    "# Your code here\n",
    "a = int(input(\"Enter a number for making square(a): \"))\n",
    "\n",
    "print(\"The number is:\", a)\n",
    "# Calculate square\n",
    "square = a * a\n",
    "print(\"The square of\", a, \"is\", square)\n"
   ]
  },
  {
   "cell_type": "markdown",
   "metadata": {},
   "source": [
    "**Question 15:** Write a Python program to check if a number is even or odd."
   ]
  },
  {
   "cell_type": "code",
   "execution_count": 50,
   "metadata": {},
   "outputs": [
    {
     "name": "stdout",
     "output_type": "stream",
     "text": [
      "29 is an odd number.\n"
     ]
    }
   ],
   "source": [
    "# Your code here\n",
    "chkEvnOdd = int(input(\"Enter a number to check if it is even or odd: \"))\n",
    "if chkEvnOdd % 2 == 0:\n",
    "    print(chkEvnOdd, \"is an even number.\")\n",
    "else:\n",
    "    print(chkEvnOdd, \"is an odd number.\")"
   ]
  },
  {
   "cell_type": "markdown",
   "metadata": {},
   "source": [
    "**Question 16:** Write a Python program to find the sum of the first n natural numbers."
   ]
  },
  {
   "cell_type": "code",
   "execution_count": 53,
   "metadata": {},
   "outputs": [
    {
     "name": "stdout",
     "output_type": "stream",
     "text": [
      "The sum of all numbers from 1 to 2000 is 2001000\n"
     ]
    }
   ],
   "source": [
    "# Your code here\n",
    "nm1 = int(input(\"Enter first number: \"))\n",
    "sum = 0\n",
    "for i in range(1, nm1 + 1):\n",
    "    sum += i\n",
    "print(\"The sum of all numbers from 1 to\", nm1, \"is\", sum)"
   ]
  },
  {
   "cell_type": "markdown",
   "metadata": {},
   "source": [
    "**Question 17:** Write a Python program to check if a year is a leap year."
   ]
  },
  {
   "cell_type": "code",
   "execution_count": null,
   "metadata": {},
   "outputs": [],
   "source": [
    "# Your code here\n",
    "year = int(input(\"Enter a year to check if it is a leap year: \"))\n",
    "if (year % 4 == 0 and year % 100 != 0) or (year % 400 == 0):\n",
    "    print(year, \"is a leap year.\")\n",
    "else:\n",
    "    print(year, \"is not a leap year.\")"
   ]
  },
  {
   "cell_type": "markdown",
   "metadata": {},
   "source": [
    "**Question 18:** Write a Python program to reverse a string."
   ]
  },
  {
   "cell_type": "code",
   "execution_count": 62,
   "metadata": {},
   "outputs": [
    {
     "name": "stdout",
     "output_type": "stream",
     "text": [
      "The new string is: emoc\n"
     ]
    }
   ],
   "source": [
    "# Your code here\n",
    "str1 = input(\"Enter the string: \")\n",
    "newStr = \"\"\n",
    "for i in range(len(str1) - 1, -1, -1):  # Start from the end and move backwards\n",
    "    newStr += str1[i]\n",
    "print(\"The new string is:\", newStr)\n"
   ]
  },
  {
   "cell_type": "code",
   "execution_count": 69,
   "metadata": {},
   "outputs": [
    {
     "name": "stdout",
     "output_type": "stream",
     "text": [
      "The reverse string is: taf\n"
     ]
    }
   ],
   "source": [
    "str2 = input(\"Enter a string to check if it is a palindrome: \")\n",
    "newStr1 = str2[::-1]\n",
    "print(\"The reverse string is:\", newStr1)"
   ]
  },
  {
   "cell_type": "markdown",
   "metadata": {},
   "source": [
    "**Question 19:** Write a Python program to check if a string is a palindrome."
   ]
  },
  {
   "cell_type": "code",
   "execution_count": 66,
   "metadata": {},
   "outputs": [
    {
     "name": "stdout",
     "output_type": "stream",
     "text": [
      "madam is a palindrome.\n"
     ]
    }
   ],
   "source": [
    "# Your code here\n",
    "chkPalindrome = input(\"Enter a string to check if it is a palindrome: \")\n",
    "if chkPalindrome == chkPalindrome[::-1]:\n",
    "    print(chkPalindrome, \"is a palindrome.\")\n",
    "else:\n",
    "    print(chkPalindrome, \"is not a palindrome.\")"
   ]
  },
  {
   "cell_type": "markdown",
   "metadata": {},
   "source": [
    "**Question 20:** Write a Python program to sort a list of numbers in ascending order."
   ]
  },
  {
   "cell_type": "code",
   "execution_count": 72,
   "metadata": {},
   "outputs": [
    {
     "name": "stdout",
     "output_type": "stream",
     "text": [
      "The list is: ['12', '23', '65']\n",
      "The new list with integers is: [12, 23, 65]\n",
      "The sorted list is: [12, 23, 65]\n"
     ]
    }
   ],
   "source": [
    "# Your code here\n",
    "lst = input(\"Enter a list of numbers separated by spaces: \").split()\n",
    "print(\"The list is:\", lst)\n",
    "newlst = []\n",
    "for item in lst:\n",
    "    newlst.append(int(item))  # Convert each item to an integer\n",
    "print(\"The new list with integers is:\", newlst)\n",
    "sorted_lst = sorted(newlst)\n",
    "print(\"The sorted list is:\", sorted_lst)    "
   ]
  }
 ],
 "metadata": {
  "kernelspec": {
   "display_name": "Python 3",
   "language": "python",
   "name": "python3"
  },
  "language_info": {
   "codemirror_mode": {
    "name": "ipython",
    "version": 3
   },
   "file_extension": ".py",
   "mimetype": "text/x-python",
   "name": "python",
   "nbconvert_exporter": "python",
   "pygments_lexer": "ipython3",
   "version": "3.13.0"
  }
 },
 "nbformat": 4,
 "nbformat_minor": 4
}

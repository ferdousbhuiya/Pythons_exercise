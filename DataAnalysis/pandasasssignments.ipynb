{
 "cells": [
  {
   "cell_type": "markdown",
   "metadata": {},
   "source": [
    "# Module: Pandas Assignments\n",
    "## Lesson: Pandas"
   ]
  },
  {
   "cell_type": "markdown",
   "id": "8aa7f45d",
   "metadata": {},
   "source": [
    "### Assignment 1: DataFrame Creation and Indexing\n",
    "\n",
    "1. Create a Pandas DataFrame with 4 columns and 6 rows filled with random integers. Set the index to be the first column.\n",
    "2. Create a Pandas DataFrame with columns 'A', 'B', 'C' and index 'X', 'Y', 'Z'. Fill the DataFrame with random integers and access the element at row 'Y' and column 'B'."
   ]
  },
  {
   "cell_type": "code",
   "execution_count": 19,
   "id": "f0441367",
   "metadata": {},
   "outputs": [],
   "source": [
    "import pandas as pd\n",
    "import numpy as np"
   ]
  },
  {
   "cell_type": "code",
   "execution_count": 20,
   "metadata": {},
   "outputs": [
    {
     "name": "stdout",
     "output_type": "stream",
     "text": [
      "Original DataFrame:\n",
      "    A   B   C   D\n",
      "0  99  71  18  83\n",
      "1  89  43  80  26\n",
      "2  36  44  54  16\n",
      "3   1  42  90  69\n",
      "4  95  84  23  35\n",
      "5  46   5  27  53\n",
      "DataFrame with new index:\n",
      "     B   C   D\n",
      "A             \n",
      "99  71  18  83\n",
      "89  43  80  26\n",
      "36  44  54  16\n",
      "1   42  90  69\n",
      "95  84  23  35\n",
      "46   5  27  53\n"
     ]
    }
   ],
   "source": [
    "# 1.0\n",
    "# Create a Pandas DataFrame with 4 columns and 6 rows filled with random integers\n",
    "df = pd.DataFrame(np.random.randint(1, 100, size=(6, 4)), columns=['A', 'B', 'C', 'D'])\n",
    "print(\"Original DataFrame:\")\n",
    "print(df)\n",
    "\n",
    "# Set the index to be the first column\n",
    "df.set_index('A', inplace=True)\n",
    "print(\"DataFrame with new index:\")\n",
    "print(df)"
   ]
  },
  {
   "cell_type": "code",
   "execution_count": 21,
   "id": "68248795",
   "metadata": {},
   "outputs": [
    {
     "name": "stdout",
     "output_type": "stream",
     "text": [
      "DataFrame with custom index:\n",
      "    A   B   C\n",
      "X  10  77  17\n",
      "Y  44  31  23\n",
      "Z  87  31  96\n",
      "Element at row 'Y' and column 'B': 31\n"
     ]
    }
   ],
   "source": [
    "# 2.0\n",
    "# Create a Dataframe with colums 'A', 'B', 'C' and index 'X', 'Y', 'Z'. \n",
    "# Fill the dataframe with random integers and access the element at row 'Y' and column 'B'\n",
    "\n",
    "df2 = pd.DataFrame(np.random.randint(1, 100, size=(3, 3)), columns=['A', 'B', 'C'], index=['X', 'Y', 'Z'])\n",
    "print(\"DataFrame with custom index:\")\n",
    "print(df2)\n",
    "\n",
    "# Access the element at row 'Y' and column 'B'\n",
    "element = df2.at['Y', 'B']\n",
    "print(\"Element at row 'Y' and column 'B':\", element)"
   ]
  },
  {
   "cell_type": "markdown",
   "id": "f5a019ea",
   "metadata": {},
   "source": [
    "### Assignment 2: DataFrame Operations\n",
    "\n",
    "1. Create a Pandas DataFrame with 3 columns and 5 rows filled with random integers. Add a new column that is the product of the first two columns.\n",
    "2. Create a Pandas DataFrame with 3 columns and 4 rows filled with random integers. Compute the row-wise and column-wise sum."
   ]
  },
  {
   "cell_type": "code",
   "execution_count": 22,
   "id": "2f42c2cc",
   "metadata": {},
   "outputs": [
    {
     "name": "stdout",
     "output_type": "stream",
     "text": [
      "Original DataFrame:\n",
      "    A   B   C\n",
      "0  84  37  75\n",
      "1  19  16  61\n",
      "2  53  90  22\n",
      "3   5  43  39\n",
      "4  46  99  85\n",
      "DataFrame after adding new column 'D':\n",
      "    A   B   C     D\n",
      "0  84  37  75  3108\n",
      "1  19  16  61   304\n",
      "2  53  90  22  4770\n",
      "3   5  43  39   215\n",
      "4  46  99  85  4554\n"
     ]
    }
   ],
   "source": [
    "# 1. Create a Pandas DataFrame with 3 columns and 5 rows filled with random integers. \n",
    "# Add a new column that is the product of the first two columns.\n",
    "df3 = pd.DataFrame(np.random.randint(1, 100, size=(5, 3)), columns=['A', 'B', 'C'])\n",
    "print(\"Original DataFrame:\")\n",
    "print(df3)\n",
    "\n",
    "# Add a new column 'D' that is the product of columns 'A' and 'B'\n",
    "df3['D'] = df3['A'] * df3['B']\n",
    "print(\"DataFrame after adding new column 'D':\")\n",
    "print(df3)\n"
   ]
  },
  {
   "cell_type": "code",
   "execution_count": 23,
   "id": "ce1edb3b",
   "metadata": {},
   "outputs": [
    {
     "name": "stdout",
     "output_type": "stream",
     "text": [
      "DataFrame:\n",
      "    A   B   C\n",
      "0  15  41  98\n",
      "1  23  14  47\n",
      "2  46  80  14\n",
      "3  60  37  94\n",
      "Row-wise sum:\n",
      "0    154\n",
      "1     84\n",
      "2    140\n",
      "3    191\n",
      "dtype: int64\n",
      "Column-wise sum:\n",
      "A    144\n",
      "B    172\n",
      "C    253\n",
      "dtype: int64\n"
     ]
    }
   ],
   "source": [
    "# 2.0 Create a Pandas DataFrame with 3 columns and 4 rows filled with random integers. \n",
    "# Compute the row-wise and column-wise sum.\n",
    "\n",
    "df4 = pd.DataFrame(np.random.randint(1, 100, size=(4, 3)), columns=['A', 'B', 'C'])\n",
    "print(\"DataFrame:\")\n",
    "print(df4)\n",
    "\n",
    "# Compute the row-wise sum\n",
    "row_sum = df4.sum(axis=1)\n",
    "print(\"Row-wise sum:\")\n",
    "print(row_sum)\n",
    "\n",
    "# Compute the column-wise sum\n",
    "col_sum = df4.sum(axis=0)\n",
    "print(\"Column-wise sum:\")\n",
    "print(col_sum)\n"
   ]
  },
  {
   "cell_type": "markdown",
   "id": "c02aafff",
   "metadata": {},
   "source": [
    "### Assignment 3: Data Cleaning\n",
    "\n",
    "1. Create a Pandas DataFrame with 3 columns and 5 rows filled with random integers. Introduce some NaN values. Fill the NaN values with the mean of the respective columns.\n",
    "2. Create a Pandas DataFrame with 4 columns and 6 rows filled with random integers. Introduce some NaN values. Drop the rows with any NaN values."
   ]
  },
  {
   "cell_type": "code",
   "execution_count": 24,
   "id": "a88ba44b",
   "metadata": {},
   "outputs": [
    {
     "name": "stdout",
     "output_type": "stream",
     "text": [
      "Original DataFrame with NaN values:\n",
      "    A     B     C\n",
      "0  24  18.0  63.0\n",
      "1  64   NaN  70.0\n",
      "2  50  73.0   9.0\n",
      "3  60  44.0   NaN\n",
      "4  77  43.0  70.0\n",
      "DataFrame after filling NaN values:\n",
      "    A     B     C\n",
      "0  24  18.0  63.0\n",
      "1  64  44.5  70.0\n",
      "2  50  73.0   9.0\n",
      "3  60  44.0  53.0\n",
      "4  77  43.0  70.0\n"
     ]
    }
   ],
   "source": [
    "# 1. Create a Pandas DataFrame with 3 columns and 5 rows filled with random integers. \n",
    "# Introduce some NaN values. Fill the NaN values with the mean of the respective columns.\n",
    "\n",
    "df5 = pd.DataFrame(np.random.randint(1, 100, size=(5, 3)), columns=['A', 'B', 'C'])\n",
    "df5.loc[1, 'B'] = np.nan\n",
    "df5.loc[3, 'C'] = np.nan\n",
    "print(\"Original DataFrame with NaN values:\")\n",
    "print(df5)\n",
    "\n",
    "# Fill NaN values with the mean of the respective columns\n",
    "df5.fillna(df5.mean(), inplace=True)\n",
    "print(\"DataFrame after filling NaN values:\")\n",
    "print(df5)\n"
   ]
  },
  {
   "cell_type": "code",
   "execution_count": 25,
   "id": "fc562a59",
   "metadata": {},
   "outputs": [
    {
     "name": "stdout",
     "output_type": "stream",
     "text": [
      "Original DataFrame with NaN values:\n",
      "    A     B     C   D\n",
      "0  97  19.0  34.0  32\n",
      "1  91   NaN  23.0  65\n",
      "2  49  80.0  93.0   1\n",
      "3  36  67.0  24.0  63\n",
      "4  76  15.0   NaN  83\n",
      "5  72  54.0  76.0  64\n",
      "DataFrame after dropping rows with NaN values:\n",
      "    A     B     C   D\n",
      "0  97  19.0  34.0  32\n",
      "2  49  80.0  93.0   1\n",
      "3  36  67.0  24.0  63\n",
      "5  72  54.0  76.0  64\n"
     ]
    }
   ],
   "source": [
    "# 2. Create a Pandas DataFrame with 4 columns and 6 rows filled with random integers. \n",
    "# Introduce some NaN values. Drop the rows with any NaN values.\n",
    "\n",
    "df6 = pd.DataFrame(np.random.randint(1, 100, size=(6, 4)), columns=['A', 'B', 'C', 'D'])\n",
    "df6.loc[1, 'B'] = np.nan\n",
    "df6.loc[4, 'C'] = np.nan\n",
    "print(\"Original DataFrame with NaN values:\")\n",
    "print(df6)\n",
    "\n",
    "# Drop rows with any NaN values\n",
    "df6.dropna(inplace=True)\n",
    "print(\"DataFrame after dropping rows with NaN values:\")\n",
    "print(df6)\n"
   ]
  },
  {
   "cell_type": "markdown",
   "id": "875e0201",
   "metadata": {},
   "source": [
    "### Assignment 4: Data Aggregation\n",
    "\n",
    "1. Create a Pandas DataFrame with 2 columns: 'Category' and 'Value'. Fill the 'Category' column with random categories ('A', 'B', 'C') and the 'Value' column with random integers. Group the DataFrame by 'Category' and compute the sum and mean of 'Value' for each category.\n",
    "2. Create a Pandas DataFrame with 3 columns: 'Product', 'Category', and 'Sales'. Fill the DataFrame with random data. Group the DataFrame by 'Category' and compute the total sales for each category."
   ]
  },
  {
   "cell_type": "code",
   "execution_count": 26,
   "id": "c0e0bee3",
   "metadata": {},
   "outputs": [
    {
     "name": "stdout",
     "output_type": "stream",
     "text": [
      "Original DataFrame:\n",
      "  Category  Value\n",
      "0        B     28\n",
      "1        C     53\n",
      "2        B     28\n",
      "3        A     97\n",
      "4        B     56\n",
      "5        A     93\n",
      "6        A     84\n",
      "7        A     55\n",
      "8        C     29\n",
      "9        A     35\n",
      "Grouped DataFrame (sum and mean):\n",
      "          sum       mean\n",
      "Category                \n",
      "A         364  72.800000\n",
      "B         112  37.333333\n",
      "C          82  41.000000\n"
     ]
    }
   ],
   "source": [
    "# 1. Create a Pandas DataFrame with 2 columns: 'Category' and 'Value'. Fill the 'Category' \n",
    "# column with random categories ('A', 'B', 'C') and the 'Value' column with random integers.\n",
    "#  Group the DataFrame by 'Category' and compute the sum and mean of 'Value' for each category.\n",
    "\n",
    "df7 = pd.DataFrame({\n",
    "    'Category': np.random.choice(['A', 'B', 'C'], size=10),\n",
    "    'Value': np.random.randint(1, 100, size=10)\n",
    "})\n",
    "print(\"Original DataFrame:\")\n",
    "print(df7)\n",
    "\n",
    "# Group by 'Category' and compute sum and mean\n",
    "grouped = df7.groupby('Category')['Value'].agg(['sum', 'mean'])\n",
    "print(\"Grouped DataFrame (sum and mean):\")\n",
    "print(grouped)\n"
   ]
  },
  {
   "cell_type": "code",
   "execution_count": 27,
   "id": "ec60168c",
   "metadata": {},
   "outputs": [
    {
     "name": "stdout",
     "output_type": "stream",
     "text": [
      "Original DataFrame:\n",
      "  Product Category  Sales\n",
      "0      P2        A     45\n",
      "1      P2        A     99\n",
      "2      P1        B      2\n",
      "3      P2        A     77\n",
      "4      P1        A     98\n",
      "5      P1        C     57\n",
      "6      P1        B     49\n",
      "7      P2        B     13\n",
      "8      P2        B     54\n",
      "9      P3        A     32\n",
      "Total sales by category:\n",
      "Category\n",
      "A    351\n",
      "B    118\n",
      "C     57\n",
      "Name: Sales, dtype: int32\n"
     ]
    }
   ],
   "source": [
    "# 2. Create a Pandas DataFrame with 3 columns: 'Product', 'Category', and 'Sales'. Fill the DataFrame with random data. \n",
    "# Group the DataFrame by 'Category' and compute the total sales for each category.\n",
    "\n",
    "df8 = pd.DataFrame({\n",
    "    'Product': np.random.choice(['P1', 'P2', 'P3'], size=10),\n",
    "    'Category': np.random.choice(['A', 'B', 'C'], size=10),\n",
    "    'Sales': np.random.randint(1, 100, size=10)\n",
    "})\n",
    "print(\"Original DataFrame:\")\n",
    "print(df8)\n",
    "\n",
    "# Group by 'Category' and compute total sales\n",
    "grouped = df8.groupby('Category')['Sales'].sum()\n",
    "print(\"Total sales by category:\")\n",
    "print(grouped)\n"
   ]
  },
  {
   "cell_type": "markdown",
   "id": "6aa978cc",
   "metadata": {},
   "source": [
    "### Assignment 5: Merging DataFrames\n",
    "\n",
    "1. Create two Pandas DataFrames with a common column. Merge the DataFrames using the common column.\n",
    "2. Create two Pandas DataFrames with different columns. Concatenate the DataFrames along the rows and along the columns."
   ]
  },
  {
   "cell_type": "code",
   "execution_count": 28,
   "id": "e0175833",
   "metadata": {},
   "outputs": [
    {
     "name": "stdout",
     "output_type": "stream",
     "text": [
      "Merged DataFrame:\n",
      "  Key  Value1  Value2\n",
      "0   A     1.0     NaN\n",
      "1   B     2.0     4.0\n",
      "2   C     3.0     5.0\n",
      "3   D     NaN     6.0\n"
     ]
    }
   ],
   "source": [
    "# 1. Create two Pandas DataFrames with a common column. Merge the DataFrames using the common column.\n",
    "\n",
    "df9a = pd.DataFrame({\n",
    "    'Key': ['A', 'B', 'C'],\n",
    "    'Value1': [1, 2, 3]\n",
    "})\n",
    "\n",
    "df9b = pd.DataFrame({\n",
    "    'Key': ['B', 'C', 'D'],\n",
    "    'Value2': [4, 5, 6]\n",
    "})\n",
    "\n",
    "merged = pd.merge(df9a, df9b, on='Key', how='outer')\n",
    "print(\"Merged DataFrame:\")\n",
    "print(merged)\n"
   ]
  },
  {
   "cell_type": "code",
   "execution_count": 29,
   "id": "dae32225",
   "metadata": {},
   "outputs": [
    {
     "name": "stdout",
     "output_type": "stream",
     "text": [
      "Row-wise concatenation:\n",
      "  Key  Value1  Value2\n",
      "0   A     1.0     NaN\n",
      "1   B     2.0     NaN\n",
      "2   C     3.0     NaN\n",
      "0   D     NaN     4.0\n",
      "1   E     NaN     5.0\n",
      "2   F     NaN     6.0\n",
      "Column-wise concatenation:\n",
      "  Key  Value1 Key  Value2\n",
      "0   A       1   D       4\n",
      "1   B       2   E       5\n",
      "2   C       3   F       6\n"
     ]
    }
   ],
   "source": [
    "# 2. Create two Pandas DataFrames with different columns. \n",
    "# Concatenate the DataFrames along the rows and along the columns.\n",
    "\n",
    "df10a = pd.DataFrame({\n",
    "    'Key': ['A', 'B', 'C'],\n",
    "    'Value1': [1, 2, 3]\n",
    "})\n",
    "\n",
    "df10b = pd.DataFrame({\n",
    "    'Key': ['D', 'E', 'F'],\n",
    "    'Value2': [4, 5, 6]\n",
    "})\n",
    "\n",
    "# Concatenate along the rows\n",
    "row_concat = pd.concat([df10a, df10b], axis=0)\n",
    "print(\"Row-wise concatenation:\")\n",
    "print(row_concat)\n",
    "\n",
    "# Concatenate along the columns\n",
    "col_concat = pd.concat([df10a, df10b], axis=1)\n",
    "print(\"Column-wise concatenation:\")\n",
    "print(col_concat)\n"
   ]
  },
  {
   "cell_type": "markdown",
   "id": "6197ddf7",
   "metadata": {},
   "source": [
    "### Assignment 6: Time Series Analysis\n",
    "\n",
    "1. Create a Pandas DataFrame with a datetime index and one column filled with random integers. Resample the DataFrame to compute the monthly mean of the values.\n",
    "2. Create a Pandas DataFrame with a datetime index ranging from '2021-01-01' to '2021-12-31' and one column filled with random integers. Compute the rolling mean with a window of 7 days."
   ]
  },
  {
   "cell_type": "code",
   "execution_count": 30,
   "id": "f3531d40",
   "metadata": {},
   "outputs": [
    {
     "name": "stdout",
     "output_type": "stream",
     "text": [
      "Original DataFrame:\n",
      "            data\n",
      "date            \n",
      "2020-01-01    92\n",
      "2020-01-02    93\n",
      "2020-01-03    60\n",
      "2020-01-04     7\n",
      "2020-01-05    48\n",
      "...          ...\n",
      "2020-12-27    67\n",
      "2020-12-28    85\n",
      "2020-12-29    34\n",
      "2020-12-30     8\n",
      "2020-12-31    12\n",
      "\n",
      "[366 rows x 1 columns]\n",
      "Monthly mean:\n",
      "                 data\n",
      "date                 \n",
      "2020-01-31  48.129032\n",
      "2020-02-29  49.965517\n",
      "2020-03-31  52.548387\n",
      "2020-04-30  53.000000\n",
      "2020-05-31  58.774194\n",
      "2020-06-30  39.633333\n",
      "2020-07-31  45.741935\n",
      "2020-08-31  54.225806\n",
      "2020-09-30  50.233333\n",
      "2020-10-31  45.032258\n",
      "2020-11-30  47.000000\n",
      "2020-12-31  57.000000\n"
     ]
    },
    {
     "name": "stderr",
     "output_type": "stream",
     "text": [
      "C:\\Users\\Silme Binte\\AppData\\Local\\Temp\\ipykernel_552\\4065388441.py:12: FutureWarning: 'M' is deprecated and will be removed in a future version, please use 'ME' instead.\n",
      "  monthly_mean = df11.resample('M').mean()\n"
     ]
    }
   ],
   "source": [
    "# 1. Create a Pandas DataFrame with a datetime index and one column filled with random integers. \n",
    "# Resample the DataFrame to compute the monthly mean of the values.\n",
    "\n",
    "date_rng = pd.date_range(start='2020-01-01', end='2020-12-31', freq='D')\n",
    "df11 = pd.DataFrame(date_rng, columns=['date'])\n",
    "df11['data'] = np.random.randint(0, 100, size=(len(date_rng)))\n",
    "df11.set_index('date', inplace=True)\n",
    "print(\"Original DataFrame:\")\n",
    "print(df11)\n",
    "\n",
    "# Resample to compute monthly mean\n",
    "monthly_mean = df11.resample('M').mean()\n",
    "print(\"Monthly mean:\")\n",
    "print(monthly_mean)\n"
   ]
  },
  {
   "cell_type": "code",
   "execution_count": 31,
   "id": "8c3ae9f4",
   "metadata": {},
   "outputs": [
    {
     "name": "stdout",
     "output_type": "stream",
     "text": [
      "Original DataFrame:\n",
      "            data\n",
      "date            \n",
      "2021-01-01     1\n",
      "2021-01-02    71\n",
      "2021-01-03    79\n",
      "2021-01-04    85\n",
      "2021-01-05    72\n",
      "...          ...\n",
      "2021-12-27    58\n",
      "2021-12-28    65\n",
      "2021-12-29    94\n",
      "2021-12-30    73\n",
      "2021-12-31    90\n",
      "\n",
      "[365 rows x 1 columns]\n",
      "Rolling mean (7 days):\n",
      "                 data\n",
      "date                 \n",
      "2021-01-01        NaN\n",
      "2021-01-02        NaN\n",
      "2021-01-03        NaN\n",
      "2021-01-04        NaN\n",
      "2021-01-05        NaN\n",
      "...               ...\n",
      "2021-12-27  56.285714\n",
      "2021-12-28  63.571429\n",
      "2021-12-29  73.000000\n",
      "2021-12-30  79.571429\n",
      "2021-12-31  79.285714\n",
      "\n",
      "[365 rows x 1 columns]\n"
     ]
    }
   ],
   "source": [
    "# 2. Create a Pandas DataFrame with a datetime index ranging from '2021-01-01' to '2021-12-31' \n",
    "# and one column filled with random integers. Compute the rolling mean with a window of 7 days.\n",
    "\n",
    "date_rng = pd.date_range(start='2021-01-01', end='2021-12-31', freq='D')\n",
    "df12 = pd.DataFrame(date_rng, columns=['date'])\n",
    "df12['data'] = np.random.randint(0, 100, size=(len(date_rng)))\n",
    "df12.set_index('date', inplace=True)\n",
    "print(\"Original DataFrame:\")\n",
    "print(df12)\n",
    "\n",
    "# Compute rolling mean with a window of 7 days\n",
    "rolling_mean = df12.rolling(window=7).mean()\n",
    "print(\"Rolling mean (7 days):\")\n",
    "print(rolling_mean)"
   ]
  },
  {
   "cell_type": "markdown",
   "id": "c62a7ac8",
   "metadata": {},
   "source": [
    "### Assignment 7: MultiIndex DataFrame\n",
    "\n",
    "1. Create a Pandas DataFrame with a MultiIndex (hierarchical index). Perform some basic indexing and slicing operations on the MultiIndex DataFrame.\n",
    "2. Create a Pandas DataFrame with MultiIndex consisting of 'Category' and 'SubCategory'. Fill the DataFrame with random data and compute the sum of values for each 'Category' and 'SubCategory'."
   ]
  },
  {
   "cell_type": "code",
   "execution_count": 32,
   "id": "ca06bff6",
   "metadata": {},
   "outputs": [
    {
     "name": "stdout",
     "output_type": "stream",
     "text": [
      "Original DataFrame:\n",
      "                 data\n",
      "letters numbers      \n",
      "A       one         1\n",
      "        two         2\n",
      "B       one         3\n",
      "        two         4\n",
      "Data for letter 'A':\n",
      "         data\n",
      "numbers      \n",
      "one         1\n",
      "two         2\n",
      "Data for letters 'A' and 'B':\n",
      "                 data\n",
      "letters numbers      \n",
      "A       one         1\n",
      "        two         2\n",
      "B       one         3\n",
      "        two         4\n"
     ]
    }
   ],
   "source": [
    "# 1. Create a Pandas DataFrame with a MultiIndex (hierarchical index). \n",
    "# Perform some basic indexing and slicing operations on the MultiIndex DataFrame.\n",
    "\n",
    "arrays = [\n",
    "    ['A', 'A', 'B', 'B'],\n",
    "    ['one', 'two', 'one', 'two']\n",
    "]\n",
    "index = pd.MultiIndex.from_arrays(arrays, names=('letters', 'numbers'))\n",
    "df13 = pd.DataFrame({'data': [1, 2, 3, 4]}, index=index)\n",
    "print(\"Original DataFrame:\")\n",
    "print(df13)\n",
    "\n",
    "# Basic indexing\n",
    "print(\"Data for letter 'A':\")\n",
    "print(df13.loc['A'])\n",
    "\n",
    "# Slicing\n",
    "print(\"Data for letters 'A' and 'B':\")\n",
    "print(df13.loc[['A', 'B']])"
   ]
  },
  {
   "cell_type": "code",
   "execution_count": 33,
   "id": "d5be447b",
   "metadata": {},
   "outputs": [
    {
     "name": "stdout",
     "output_type": "stream",
     "text": [
      "Original DataFrame:\n",
      "                      Values\n",
      "Category SubCategory        \n",
      "A        one               4\n",
      "         two               9\n",
      "B        one               4\n",
      "         two               5\n",
      "\n",
      "Sum for each Category:\n",
      "          Values\n",
      "Category        \n",
      "A             13\n",
      "B              9\n",
      "\n",
      "Sum for each SubCategory:\n",
      "             Values\n",
      "SubCategory        \n",
      "one               8\n",
      "two              14\n"
     ]
    }
   ],
   "source": [
    "# 2. Create a Pandas DataFrame with MultiIndex consisting of 'Category' and 'SubCategory'. Fill the DataFrame with random data and compute the sum of values \n",
    "# for each 'Category' and 'SubCategory'.\n",
    "\n",
    "# Create MultiIndex\n",
    "arrays = [\n",
    "    ['A', 'A', 'B', 'B'],\n",
    "    ['one', 'two', 'one', 'two']\n",
    "]\n",
    "index = pd.MultiIndex.from_arrays(arrays, names=('Category', 'SubCategory'))\n",
    "\n",
    "# Create DataFrame with random values\n",
    "df14 = pd.DataFrame({'Values': np.random.randint(1, 10, size=4)}, index=index)\n",
    "print(\"Original DataFrame:\")\n",
    "print(df14)\n",
    "\n",
    "# Sum by Category\n",
    "category_sum = df14.groupby(level='Category').sum()\n",
    "print(\"\\nSum for each Category:\")\n",
    "print(category_sum)\n",
    "\n",
    "# Sum by SubCategory\n",
    "subcategory_sum = df14.groupby(level='SubCategory').sum()\n",
    "print(\"\\nSum for each SubCategory:\")\n",
    "print(subcategory_sum)\n"
   ]
  },
  {
   "cell_type": "markdown",
   "id": "ac222b91",
   "metadata": {},
   "source": [
    "### Assignment 8: Pivot Tables\n",
    "\n",
    "1. Create a Pandas DataFrame with columns 'Date', 'Category', and 'Value'. Create a pivot table to compute the sum of 'Value' for each 'Category' by 'Date'.\n",
    "2. Create a Pandas DataFrame with columns 'Year', 'Quarter', and 'Revenue'. Create a pivot table to compute the mean 'Revenue' for each 'Quarter' by 'Year'."
   ]
  },
  {
   "cell_type": "code",
   "execution_count": 34,
   "id": "6eb4fe85",
   "metadata": {},
   "outputs": [
    {
     "name": "stdout",
     "output_type": "stream",
     "text": [
      "Original DataFrame:\n",
      "          Date Category  Value\n",
      "0   2021-01-01        B      1\n",
      "1   2021-01-02        B     71\n",
      "2   2021-01-03        A     38\n",
      "3   2021-01-04        B     83\n",
      "4   2021-01-05        B     99\n",
      "..         ...      ...    ...\n",
      "360 2021-12-27        A     30\n",
      "361 2021-12-28        C     82\n",
      "362 2021-12-29        C     45\n",
      "363 2021-12-30        A     19\n",
      "364 2021-12-31        B     74\n",
      "\n",
      "[365 rows x 3 columns]\n",
      "Pivot Table:\n",
      "Category     A   B   C\n",
      "Date                  \n",
      "2021-01-01   0   1   0\n",
      "2021-01-02   0  71   0\n",
      "2021-01-03  38   0   0\n",
      "2021-01-04   0  83   0\n",
      "2021-01-05   0  99   0\n",
      "...         ..  ..  ..\n",
      "2021-12-27  30   0   0\n",
      "2021-12-28   0   0  82\n",
      "2021-12-29   0   0  45\n",
      "2021-12-30  19   0   0\n",
      "2021-12-31   0  74   0\n",
      "\n",
      "[365 rows x 3 columns]\n"
     ]
    }
   ],
   "source": [
    "# 1. Create a Pandas DataFrame with columns 'Date', 'Category', and 'Value'. \n",
    "# Create a pivot table to compute the sum of 'Value' for each 'Category' by 'Date'.\n",
    "\n",
    "date_rng = pd.date_range(start='2021-01-01', end='2021-12-31', freq='D')\n",
    "df15 = pd.DataFrame(date_rng, columns=['Date'])\n",
    "df15['Category'] = np.random.choice(['A', 'B', 'C'], size=(len(date_rng)))\n",
    "df15['Value'] = np.random.randint(1, 100, size=(len(date_rng)))\n",
    "print(\"Original DataFrame:\")\n",
    "print(df15)\n",
    "\n",
    "# Create pivot table\n",
    "pivot_table = df15.pivot_table(values='Value', index='Date', columns='Category', aggfunc='sum', fill_value=0)\n",
    "print(\"Pivot Table:\")\n",
    "print(pivot_table)\n"
   ]
  },
  {
   "cell_type": "code",
   "execution_count": 35,
   "id": "1757332d",
   "metadata": {},
   "outputs": [
    {
     "name": "stdout",
     "output_type": "stream",
     "text": [
      "Original DataFrame:\n",
      "          Date  Year Quarter  Revenue\n",
      "0   2021-01-01  2021  2021Q1     2366\n",
      "1   2021-01-02  2021  2021Q1     2098\n",
      "2   2021-01-03  2021  2021Q1     3297\n",
      "3   2021-01-04  2021  2021Q1     2812\n",
      "4   2021-01-05  2021  2021Q1     2462\n",
      "..         ...   ...     ...      ...\n",
      "360 2021-12-27  2021  2021Q4     2890\n",
      "361 2021-12-28  2021  2021Q4     2708\n",
      "362 2021-12-29  2021  2021Q4     4988\n",
      "363 2021-12-30  2021  2021Q4     2451\n",
      "364 2021-12-31  2021  2021Q4     1371\n",
      "\n",
      "[365 rows x 4 columns]\n",
      "Pivot Table:\n",
      "Quarter       2021Q1       2021Q2       2021Q3   2021Q4\n",
      "Year                                                   \n",
      "2021     2896.644444  2962.934066  3119.173913  2983.25\n"
     ]
    }
   ],
   "source": [
    "# 2. Create a Pandas DataFrame with columns 'Year', 'Quarter', and 'Revenue'. \n",
    "# Create a pivot table to compute the mean 'Revenue' for each 'Quarter' by 'Year'.\n",
    "\n",
    "date_rng = pd.date_range(start='2021-01-01', end='2021-12-31', freq='D')\n",
    "df16 = pd.DataFrame(date_rng, columns=['Date'])\n",
    "df16['Year'] = df16['Date'].dt.year\n",
    "df16['Quarter'] = df16['Date'].dt.to_period('Q')\n",
    "df16['Revenue'] = np.random.randint(1000, 5000, size=(len(date_rng)))\n",
    "print(\"Original DataFrame:\")\n",
    "print(df16)\n",
    "\n",
    "# Create pivot table\n",
    "pivot_table = df16.pivot_table(values='Revenue', index='Year', columns='Quarter', aggfunc='mean', fill_value=0)\n",
    "print(\"Pivot Table:\")\n",
    "print(pivot_table)\n"
   ]
  },
  {
   "cell_type": "markdown",
   "id": "758b484a",
   "metadata": {},
   "source": [
    "### Assignment 9: Applying Functions\n",
    "\n",
    "1. Create a Pandas DataFrame with 3 columns and 5 rows filled with random integers. Apply a function that doubles the values of the DataFrame.\n",
    "2. Create a Pandas DataFrame with 3 columns and 6 rows filled with random integers. Apply a lambda function to create a new column that is the sum of the existing columns."
   ]
  },
  {
   "cell_type": "code",
   "execution_count": 36,
   "id": "ce8d83e7",
   "metadata": {},
   "outputs": [
    {
     "name": "stdout",
     "output_type": "stream",
     "text": [
      "Original DataFrame:\n",
      "    A   B   C\n",
      "0   9  19  75\n",
      "1  24  16  91\n",
      "2  92  41  34\n",
      "3  13   3  55\n",
      "4  86  43  90\n",
      "Doubled DataFrame:\n",
      "     A   B    C\n",
      "0   18  38  150\n",
      "1   48  32  182\n",
      "2  184  82   68\n",
      "3   26   6  110\n",
      "4  172  86  180\n"
     ]
    }
   ],
   "source": [
    "# 1. Create a Pandas DataFrame with 3 columns and 5 rows filled with random integers. \n",
    "# Apply a function that doubles the values of the DataFrame.\n",
    "\n",
    "df17 = pd.DataFrame(np.random.randint(1, 100, size=(5, 3)), columns=['A', 'B', 'C'])\n",
    "print(\"Original DataFrame:\")\n",
    "print(df17)\n",
    "\n",
    "# Apply function to double the values\n",
    "df17_doubled = df17.apply(lambda x: x * 2)\n",
    "print(\"Doubled DataFrame:\")\n",
    "print(df17_doubled)"
   ]
  },
  {
   "cell_type": "code",
   "execution_count": 37,
   "id": "c3ae304d",
   "metadata": {},
   "outputs": [
    {
     "name": "stdout",
     "output_type": "stream",
     "text": [
      "Original DataFrame:\n",
      "    A   B   C\n",
      "0  44   9  91\n",
      "1  91  10  51\n",
      "2  67  91  90\n",
      "3  59  59  79\n",
      "4  77  42   2\n",
      "5  61  22  66\n",
      "DataFrame with Sum column:\n",
      "    A   B   C  Sum\n",
      "0  44   9  91  144\n",
      "1  91  10  51  152\n",
      "2  67  91  90  248\n",
      "3  59  59  79  197\n",
      "4  77  42   2  121\n",
      "5  61  22  66  149\n"
     ]
    }
   ],
   "source": [
    "# 2. Create a Pandas DataFrame with 3 columns and 6 rows filled with random integers. \n",
    "# Apply a lambda function to create a new column that is the sum of the existing columns.\n",
    "\n",
    "df18 = pd.DataFrame(np.random.randint(1, 100, size=(6, 3)), columns=['A', 'B', 'C'])\n",
    "print(\"Original DataFrame:\")\n",
    "print(df18)\n",
    "\n",
    "# Apply lambda function to create new column\n",
    "df18['Sum'] = df18.apply(lambda x: x.sum(), axis=1)\n",
    "print(\"DataFrame with Sum column:\")\n",
    "print(df18)\n"
   ]
  },
  {
   "cell_type": "markdown",
   "id": "056cdc2a",
   "metadata": {},
   "source": [
    "### Assignment 10: Working with Text Data\n",
    "\n",
    "1. Create a Pandas Series with 5 random text strings. Convert all the strings to uppercase.\n",
    "2. Create a Pandas Series with 5 random text strings. Extract the first three characters of each string."
   ]
  },
  {
   "cell_type": "code",
   "execution_count": 38,
   "id": "e29a89de",
   "metadata": {},
   "outputs": [
    {
     "name": "stdout",
     "output_type": "stream",
     "text": [
      "Original Series:\n",
      "0         apple\n",
      "1        banana\n",
      "2        cherry\n",
      "3          date\n",
      "4    elderberry\n",
      "dtype: object\n",
      "Uppercase Series:\n",
      "0         APPLE\n",
      "1        BANANA\n",
      "2        CHERRY\n",
      "3          DATE\n",
      "4    ELDERBERRY\n",
      "dtype: object\n"
     ]
    }
   ],
   "source": [
    "# 1. Create a Pandas Series with 5 random text strings. Convert all the strings to uppercase.\n",
    "text_series = pd.Series(['apple', 'banana', 'cherry', 'date', 'elderberry'])\n",
    "print(\"Original Series:\")\n",
    "print(text_series)\n",
    "\n",
    "# Convert to uppercase\n",
    "upper_series = text_series.str.upper()\n",
    "print(\"Uppercase Series:\")\n",
    "print(upper_series)"
   ]
  },
  {
   "cell_type": "code",
   "execution_count": 39,
   "id": "ac86d096",
   "metadata": {},
   "outputs": [
    {
     "name": "stdout",
     "output_type": "stream",
     "text": [
      "Original Series:\n",
      "0         apple\n",
      "1        banana\n",
      "2        cherry\n",
      "3          date\n",
      "4    elderberry\n",
      "dtype: object\n",
      "First Three Characters:\n",
      "0    app\n",
      "1    ban\n",
      "2    che\n",
      "3    dat\n",
      "4    eld\n",
      "dtype: object\n"
     ]
    }
   ],
   "source": [
    "# 2. Create a Pandas Series with 5 random text strings. Extract the first three characters of each string.\n",
    "text_series = pd.Series(['apple', 'banana', 'cherry', 'date', 'elderberry'])\n",
    "print(\"Original Series:\")\n",
    "print(text_series)\n",
    "\n",
    "# Extract first three characters\n",
    "first_three = text_series.str[:3]\n",
    "print(\"First Three Characters:\")\n",
    "print(first_three)"
   ]
  }
 ],
 "metadata": {
  "kernelspec": {
   "display_name": "Python 3",
   "language": "python",
   "name": "python3"
  },
  "language_info": {
   "codemirror_mode": {
    "name": "ipython",
    "version": 3
   },
   "file_extension": ".py",
   "mimetype": "text/x-python",
   "name": "python",
   "nbconvert_exporter": "python",
   "pygments_lexer": "ipython3",
   "version": "3.13.0"
  }
 },
 "nbformat": 4,
 "nbformat_minor": 5
}
